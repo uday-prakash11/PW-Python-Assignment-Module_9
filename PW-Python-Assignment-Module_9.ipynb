{
 "cells": [
  {
   "cell_type": "markdown",
   "id": "1a2f9117",
   "metadata": {},
   "source": [
    "Q1. Explain with an example each when to use a for loop and a while loop."
   ]
  },
  {
   "cell_type": "code",
   "execution_count": 1,
   "id": "f0deb1dc",
   "metadata": {},
   "outputs": [
    {
     "name": "stdout",
     "output_type": "stream",
     "text": [
      "1\n",
      "2\n",
      "3\n",
      "4\n",
      "5\n"
     ]
    }
   ],
   "source": [
    "# Example: Printing numbers from 1 to 5 using a for loop\n",
    "for i in range(1, 6):  # range(start, stop) generates numbers from start to stop-1\n",
    "    print(i)\n"
   ]
  },
  {
   "cell_type": "code",
   "execution_count": 2,
   "id": "491cd92a",
   "metadata": {},
   "outputs": [
    {
     "name": "stdout",
     "output_type": "stream",
     "text": [
      "1\n",
      "2\n",
      "3\n",
      "4\n",
      "5\n"
     ]
    }
   ],
   "source": [
    "# Example: Printing numbers from 1 to 5 using a while loop\n",
    "i = 1\n",
    "while i <= 5:\n",
    "    print(i)\n",
    "    i += 1  # Incrementing i to eventually make the condition false"
   ]
  },
  {
   "cell_type": "markdown",
   "id": "e2aa6299",
   "metadata": {},
   "source": [
    "Q2.  Write a python program to print the sum and product of the first 10 natural numbers using for\n",
    "and while loop."
   ]
  },
  {
   "cell_type": "code",
   "execution_count": 3,
   "id": "6102273a",
   "metadata": {},
   "outputs": [
    {
     "name": "stdout",
     "output_type": "stream",
     "text": [
      "Using for loop:\n",
      "Sum of the first 10 natural numbers: 55\n",
      "Product of the first 10 natural numbers: 3628800\n"
     ]
    }
   ],
   "source": [
    "# Using for loop to calculate sum and product of first 10 natural numbers\n",
    "# Sum\n",
    "sum_result = 0\n",
    "for i in range(1, 11):\n",
    "    sum_result += i\n",
    "\n",
    "# Product\n",
    "product_result = 1\n",
    "for i in range(1, 11):\n",
    "    product_result *= i\n",
    "\n",
    "print(\"Using for loop:\")\n",
    "print(\"Sum of the first 10 natural numbers:\", sum_result)\n",
    "print(\"Product of the first 10 natural numbers:\", product_result)\n"
   ]
  },
  {
   "cell_type": "code",
   "execution_count": 4,
   "id": "5d055af9",
   "metadata": {},
   "outputs": [
    {
     "name": "stdout",
     "output_type": "stream",
     "text": [
      "\n",
      "Using while loop:\n",
      "Sum of the first 10 natural numbers: 55\n",
      "Product of the first 10 natural numbers: 3628800\n"
     ]
    }
   ],
   "source": [
    "# Using while loop to calculate sum and product of first 10 natural numbers\n",
    "# Sum\n",
    "sum_result = 0\n",
    "i = 1\n",
    "while i <= 10:\n",
    "    sum_result += i\n",
    "    i += 1\n",
    "\n",
    "# Product\n",
    "product_result = 1\n",
    "i = 1\n",
    "while i <= 10:\n",
    "    product_result *= i\n",
    "    i += 1\n",
    "\n",
    "print(\"\\nUsing while loop:\")\n",
    "print(\"Sum of the first 10 natural numbers:\", sum_result)\n",
    "print(\"Product of the first 10 natural numbers:\", product_result)\n"
   ]
  },
  {
   "cell_type": "markdown",
   "id": "8464c059",
   "metadata": {},
   "source": [
    "Q3. Create a python program to compute the electricity bill for a household.\n",
    "The per-unit charges in rupees are as follows: For the first 100 units, the user will be charged Rs. 4.5 per\n",
    "unit, for the next 100 units, the user will be charged Rs. 6 per unit, and for the next 100 units, the user will\n",
    "be charged Rs. 10 per unit, After 300 units and above the user will be charged Rs. 20 per unit.\n",
    "\n",
    "You are required to take the units of electricity consumed in a month from the user as input.\n",
    "\n",
    "Your program must pass this test case: when the unit of electricity consumed by the user in a month is\n",
    "310, the total electricity bill should be 2250."
   ]
  },
  {
   "cell_type": "code",
   "execution_count": 5,
   "id": "213ba6b2",
   "metadata": {},
   "outputs": [
    {
     "name": "stdout",
     "output_type": "stream",
     "text": [
      "Enter the units of electricity consumed in a month: 310\n",
      "Total electricity bill: Rs. 2250.0\n"
     ]
    }
   ],
   "source": [
    "def calculate_bill(units):\n",
    "    total_bill = 0\n",
    "    \n",
    "    # For the first 100 units\n",
    "    if units <= 100:\n",
    "        total_bill += units * 4.5\n",
    "    else:\n",
    "        total_bill += 100 * 4.5\n",
    "        units -= 100\n",
    "\n",
    "        # For the next 100 units\n",
    "        if units <= 100:\n",
    "            total_bill += units * 6\n",
    "        else:\n",
    "            total_bill += 100 * 6\n",
    "            units -= 100\n",
    "\n",
    "            # For the next 100 units\n",
    "            if units <= 100:\n",
    "                total_bill += units * 10\n",
    "            else:\n",
    "                total_bill += 100 * 10\n",
    "                units -= 100\n",
    "\n",
    "                # For units above 300\n",
    "                total_bill += units * 20\n",
    "\n",
    "    return total_bill\n",
    "\n",
    "# Taking input from the user\n",
    "units_consumed = int(input(\"Enter the units of electricity consumed in a month: \"))\n",
    "\n",
    "# Calculating the electricity bill\n",
    "bill_amount = calculate_bill(units_consumed)\n",
    "\n",
    "print(\"Total electricity bill: Rs.\", bill_amount)\n"
   ]
  },
  {
   "cell_type": "markdown",
   "id": "ba3831c8",
   "metadata": {},
   "source": [
    "Q4. Create a list of numbers from 1 to 100. Use for loop and while loop to calculate the cube of each\n",
    "number and if the cube of that number is divisible by 4 or 5 then append that number in a list and print\n",
    "that list."
   ]
  },
  {
   "cell_type": "code",
   "execution_count": 6,
   "id": "556468b2",
   "metadata": {},
   "outputs": [
    {
     "name": "stdout",
     "output_type": "stream",
     "text": [
      "Using for loop:\n",
      "Numbers whose cube is divisible by 4 or 5: [2, 4, 5, 6, 8, 10, 12, 14, 15, 16, 18, 20, 22, 24, 25, 26, 28, 30, 32, 34, 35, 36, 38, 40, 42, 44, 45, 46, 48, 50, 52, 54, 55, 56, 58, 60, 62, 64, 65, 66, 68, 70, 72, 74, 75, 76, 78, 80, 82, 84, 85, 86, 88, 90, 92, 94, 95, 96, 98, 100]\n"
     ]
    }
   ],
   "source": [
    "# Using for loop to calculate cubes of numbers and append if divisible by 4 or 5\n",
    "result_list = []\n",
    "for i in range(1, 101):\n",
    "    cube = i ** 3\n",
    "    if cube % 4 == 0 or cube % 5 == 0:\n",
    "        result_list.append(i)\n",
    "\n",
    "print(\"Using for loop:\")\n",
    "print(\"Numbers whose cube is divisible by 4 or 5:\", result_list)\n"
   ]
  },
  {
   "cell_type": "code",
   "execution_count": 7,
   "id": "c58d97be",
   "metadata": {},
   "outputs": [
    {
     "name": "stdout",
     "output_type": "stream",
     "text": [
      "\n",
      "Using while loop:\n",
      "Numbers whose cube is divisible by 4 or 5: [2, 4, 5, 6, 8, 10, 12, 14, 15, 16, 18, 20, 22, 24, 25, 26, 28, 30, 32, 34, 35, 36, 38, 40, 42, 44, 45, 46, 48, 50, 52, 54, 55, 56, 58, 60, 62, 64, 65, 66, 68, 70, 72, 74, 75, 76, 78, 80, 82, 84, 85, 86, 88, 90, 92, 94, 95, 96, 98, 100]\n"
     ]
    }
   ],
   "source": [
    "# Using while loop to calculate cubes of numbers and append if divisible by 4 or 5\n",
    "result_list = []\n",
    "i = 1\n",
    "while i <= 100:\n",
    "    cube = i ** 3\n",
    "    if cube % 4 == 0 or cube % 5 == 0:\n",
    "        result_list.append(i)\n",
    "    i += 1\n",
    "\n",
    "print(\"\\nUsing while loop:\")\n",
    "print(\"Numbers whose cube is divisible by 4 or 5:\", result_list)\n"
   ]
  },
  {
   "cell_type": "markdown",
   "id": "35c691ea",
   "metadata": {},
   "source": [
    "Q5.  Write a program to filter count vowels in the below-given string.\n",
    "\n",
    "string = \"I want to become a data scientist\""
   ]
  },
  {
   "cell_type": "code",
   "execution_count": 8,
   "id": "4ebd1949",
   "metadata": {},
   "outputs": [
    {
     "name": "stdout",
     "output_type": "stream",
     "text": [
      "Number of vowels in the string: 12\n"
     ]
    }
   ],
   "source": [
    "string = \"I want to become a data scientist\"\n",
    "\n",
    "# Define a function to count vowels\n",
    "def count_vowels(input_string):\n",
    "    vowels = \"aeiouAEIOU\"\n",
    "    vowel_count = 0\n",
    "    for char in input_string:\n",
    "        if char in vowels:\n",
    "            vowel_count += 1\n",
    "    return vowel_count\n",
    "\n",
    "# Call the function to count vowels in the string\n",
    "vowel_count = count_vowels(string)\n",
    "\n",
    "print(\"Number of vowels in the string:\", vowel_count)\n"
   ]
  },
  {
   "cell_type": "code",
   "execution_count": null,
   "id": "99fd7cf3",
   "metadata": {},
   "outputs": [],
   "source": []
  }
 ],
 "metadata": {
  "kernelspec": {
   "display_name": "Python 3 (ipykernel)",
   "language": "python",
   "name": "python3"
  },
  "language_info": {
   "codemirror_mode": {
    "name": "ipython",
    "version": 3
   },
   "file_extension": ".py",
   "mimetype": "text/x-python",
   "name": "python",
   "nbconvert_exporter": "python",
   "pygments_lexer": "ipython3",
   "version": "3.9.12"
  }
 },
 "nbformat": 4,
 "nbformat_minor": 5
}
